{
 "cells": [
  {
   "cell_type": "markdown",
   "metadata": {},
   "source": [
    "# 1. 데이터 불러오기와 데이터셋 나누기"
   ]
  },
  {
   "cell_type": "code",
   "execution_count": 1,
   "metadata": {},
   "outputs": [],
   "source": [
    "#일반적인 경고 메세지는 무시함\n",
    "import warnings\n",
    "warnings.filterwarnings(\"ignore\")"
   ]
  },
  {
   "cell_type": "code",
   "execution_count": 2,
   "metadata": {},
   "outputs": [],
   "source": [
    "#Pandas 라이브러리를 선언함\n",
    "import pandas as pd"
   ]
  },
  {
   "cell_type": "code",
   "execution_count": 3,
   "metadata": {},
   "outputs": [],
   "source": [
    "#One-hot Coding과 연속데이터 스케일링을 수행한 Fvote.cav 파일을 불러옴\n",
    "data=pd.read_csv('Fvote.csv', encoding='utf-8')"
   ]
  },
  {
   "cell_type": "code",
   "execution_count": 4,
   "metadata": {},
   "outputs": [],
   "source": [
    "#입력에 해당하는 feature들을 X로 저장함\n",
    "X=data[['gender_female', 'gender_male', 'region_Chungcheung', 'region_Honam', \n",
    "        'region_Others', 'region_Sudo', 'region_Youngnam', 'edu', 'income', \n",
    "        'age', 'score_gov', 'score_progress', 'score_intention']]"
   ]
  },
  {
   "cell_type": "code",
   "execution_count": 5,
   "metadata": {},
   "outputs": [],
   "source": [
    "#출력에 해당하는 레이블 중에서 vote만 y로 저장함\n",
    "y=data[['vote']]"
   ]
  },
  {
   "cell_type": "code",
   "execution_count": 6,
   "metadata": {},
   "outputs": [],
   "source": [
    "#데이터를 Train와 Test 셋으로 분리하기 위한 라이브러리를 선언함\n",
    "from sklearn.model_selection import train_test_split"
   ]
  },
  {
   "cell_type": "code",
   "execution_count": 7,
   "metadata": {},
   "outputs": [],
   "source": [
    "X_train, X_test, y_train, y_test=train_test_split(X, y, random_state=42 )"
   ]
  },
  {
   "cell_type": "markdown",
   "metadata": {},
   "source": [
    "# 2. Grid Search "
   ]
  },
  {
   "cell_type": "code",
   "execution_count": 8,
   "metadata": {},
   "outputs": [],
   "source": [
    "from sklearn.model_selection import GridSearchCV"
   ]
  },
  {
   "cell_type": "code",
   "execution_count": 9,
   "metadata": {},
   "outputs": [],
   "source": [
    "param_grid={'n_neighbors': [1, 2, 3, 4, 5, 6, 7, 8, 9 , 10]}"
   ]
  },
  {
   "cell_type": "code",
   "execution_count": 10,
   "metadata": {},
   "outputs": [],
   "source": [
    "from sklearn.neighbors import KNeighborsClassifier"
   ]
  },
  {
   "cell_type": "code",
   "execution_count": 11,
   "metadata": {},
   "outputs": [],
   "source": [
    "grid_search=GridSearchCV(KNeighborsClassifier(), param_grid, cv=5, return_train_score=True)"
   ]
  },
  {
   "cell_type": "code",
   "execution_count": 12,
   "metadata": {},
   "outputs": [
    {
     "name": "stderr",
     "output_type": "stream",
     "text": [
      "C:\\Users\\user\\Anaconda3\\lib\\site-packages\\sklearn\\model_selection\\_search.py:814: DeprecationWarning: The default of the `iid` parameter will change from True to False in version 0.22 and will be removed in 0.24. This will change numeric results when test-set sizes are unequal.\n",
      "  DeprecationWarning)\n"
     ]
    },
    {
     "data": {
      "text/plain": [
       "GridSearchCV(cv=5, error_score='raise-deprecating',\n",
       "             estimator=KNeighborsClassifier(algorithm='auto', leaf_size=30,\n",
       "                                            metric='minkowski',\n",
       "                                            metric_params=None, n_jobs=None,\n",
       "                                            n_neighbors=5, p=2,\n",
       "                                            weights='uniform'),\n",
       "             iid='warn', n_jobs=None,\n",
       "             param_grid={'n_neighbors': [1, 2, 3, 4, 5, 6, 7, 8, 9, 10]},\n",
       "             pre_dispatch='2*n_jobs', refit=True, return_train_score=True,\n",
       "             scoring=None, verbose=0)"
      ]
     },
     "execution_count": 12,
     "metadata": {},
     "output_type": "execute_result"
    }
   ],
   "source": [
    "grid_search.fit(X_train, y_train)"
   ]
  },
  {
   "cell_type": "code",
   "execution_count": 13,
   "metadata": {},
   "outputs": [
    {
     "name": "stdout",
     "output_type": "stream",
     "text": [
      "Best Parameter: {'n_neighbors': 9}\n"
     ]
    }
   ],
   "source": [
    "print(\"Best Parameter: {}\".format(grid_search.best_params_))"
   ]
  },
  {
   "cell_type": "code",
   "execution_count": 14,
   "metadata": {},
   "outputs": [
    {
     "name": "stdout",
     "output_type": "stream",
     "text": [
      "Best Cross-validity Score: 0.646\n"
     ]
    }
   ],
   "source": [
    "print(\"Best Cross-validity Score: {:.3f}\".format(grid_search.best_score_))"
   ]
  },
  {
   "cell_type": "code",
   "execution_count": 15,
   "metadata": {},
   "outputs": [
    {
     "name": "stdout",
     "output_type": "stream",
     "text": [
      "Test set Score: 0.811\n"
     ]
    }
   ],
   "source": [
    "print(\"Test set Score: {:.3f}\".format(grid_search.score(X_test, y_test)))"
   ]
  },
  {
   "cell_type": "code",
   "execution_count": 16,
   "metadata": {},
   "outputs": [],
   "source": [
    "result_grid= pd.DataFrame(grid_search.cv_results_)"
   ]
  },
  {
   "cell_type": "code",
   "execution_count": 17,
   "metadata": {},
   "outputs": [
    {
     "data": {
      "text/html": [
       "<div>\n",
       "<style scoped>\n",
       "    .dataframe tbody tr th:only-of-type {\n",
       "        vertical-align: middle;\n",
       "    }\n",
       "\n",
       "    .dataframe tbody tr th {\n",
       "        vertical-align: top;\n",
       "    }\n",
       "\n",
       "    .dataframe thead th {\n",
       "        text-align: right;\n",
       "    }\n",
       "</style>\n",
       "<table border=\"1\" class=\"dataframe\">\n",
       "  <thead>\n",
       "    <tr style=\"text-align: right;\">\n",
       "      <th></th>\n",
       "      <th>mean_fit_time</th>\n",
       "      <th>std_fit_time</th>\n",
       "      <th>mean_score_time</th>\n",
       "      <th>std_score_time</th>\n",
       "      <th>param_n_neighbors</th>\n",
       "      <th>params</th>\n",
       "      <th>split0_test_score</th>\n",
       "      <th>split1_test_score</th>\n",
       "      <th>split2_test_score</th>\n",
       "      <th>split3_test_score</th>\n",
       "      <th>...</th>\n",
       "      <th>mean_test_score</th>\n",
       "      <th>std_test_score</th>\n",
       "      <th>rank_test_score</th>\n",
       "      <th>split0_train_score</th>\n",
       "      <th>split1_train_score</th>\n",
       "      <th>split2_train_score</th>\n",
       "      <th>split3_train_score</th>\n",
       "      <th>split4_train_score</th>\n",
       "      <th>mean_train_score</th>\n",
       "      <th>std_train_score</th>\n",
       "    </tr>\n",
       "  </thead>\n",
       "  <tbody>\n",
       "    <tr>\n",
       "      <th>0</th>\n",
       "      <td>0.002394</td>\n",
       "      <td>4.877801e-04</td>\n",
       "      <td>0.001795</td>\n",
       "      <td>0.000399</td>\n",
       "      <td>1</td>\n",
       "      <td>{'n_neighbors': 1}</td>\n",
       "      <td>0.62500</td>\n",
       "      <td>0.53125</td>\n",
       "      <td>0.50000</td>\n",
       "      <td>0.451613</td>\n",
       "      <td>...</td>\n",
       "      <td>0.518987</td>\n",
       "      <td>0.059264</td>\n",
       "      <td>7</td>\n",
       "      <td>1.000000</td>\n",
       "      <td>1.000000</td>\n",
       "      <td>1.000000</td>\n",
       "      <td>1.000000</td>\n",
       "      <td>1.000000</td>\n",
       "      <td>1.000000</td>\n",
       "      <td>0.000000</td>\n",
       "    </tr>\n",
       "    <tr>\n",
       "      <th>1</th>\n",
       "      <td>0.002593</td>\n",
       "      <td>4.888115e-04</td>\n",
       "      <td>0.001596</td>\n",
       "      <td>0.000488</td>\n",
       "      <td>2</td>\n",
       "      <td>{'n_neighbors': 2}</td>\n",
       "      <td>0.50000</td>\n",
       "      <td>0.46875</td>\n",
       "      <td>0.40625</td>\n",
       "      <td>0.354839</td>\n",
       "      <td>...</td>\n",
       "      <td>0.424051</td>\n",
       "      <td>0.053338</td>\n",
       "      <td>10</td>\n",
       "      <td>0.722222</td>\n",
       "      <td>0.722222</td>\n",
       "      <td>0.682540</td>\n",
       "      <td>0.779528</td>\n",
       "      <td>0.716535</td>\n",
       "      <td>0.724609</td>\n",
       "      <td>0.031185</td>\n",
       "    </tr>\n",
       "    <tr>\n",
       "      <th>2</th>\n",
       "      <td>0.001995</td>\n",
       "      <td>7.136645e-07</td>\n",
       "      <td>0.001795</td>\n",
       "      <td>0.000400</td>\n",
       "      <td>3</td>\n",
       "      <td>{'n_neighbors': 3}</td>\n",
       "      <td>0.65625</td>\n",
       "      <td>0.62500</td>\n",
       "      <td>0.53125</td>\n",
       "      <td>0.451613</td>\n",
       "      <td>...</td>\n",
       "      <td>0.550633</td>\n",
       "      <td>0.079080</td>\n",
       "      <td>5</td>\n",
       "      <td>0.753968</td>\n",
       "      <td>0.777778</td>\n",
       "      <td>0.801587</td>\n",
       "      <td>0.803150</td>\n",
       "      <td>0.748031</td>\n",
       "      <td>0.776903</td>\n",
       "      <td>0.023059</td>\n",
       "    </tr>\n",
       "    <tr>\n",
       "      <th>3</th>\n",
       "      <td>0.002393</td>\n",
       "      <td>4.889476e-04</td>\n",
       "      <td>0.001596</td>\n",
       "      <td>0.000489</td>\n",
       "      <td>4</td>\n",
       "      <td>{'n_neighbors': 4}</td>\n",
       "      <td>0.59375</td>\n",
       "      <td>0.43750</td>\n",
       "      <td>0.37500</td>\n",
       "      <td>0.419355</td>\n",
       "      <td>...</td>\n",
       "      <td>0.462025</td>\n",
       "      <td>0.074972</td>\n",
       "      <td>9</td>\n",
       "      <td>0.658730</td>\n",
       "      <td>0.730159</td>\n",
       "      <td>0.738095</td>\n",
       "      <td>0.740157</td>\n",
       "      <td>0.700787</td>\n",
       "      <td>0.713586</td>\n",
       "      <td>0.030836</td>\n",
       "    </tr>\n",
       "    <tr>\n",
       "      <th>4</th>\n",
       "      <td>0.001995</td>\n",
       "      <td>5.519789e-07</td>\n",
       "      <td>0.001596</td>\n",
       "      <td>0.000489</td>\n",
       "      <td>5</td>\n",
       "      <td>{'n_neighbors': 5}</td>\n",
       "      <td>0.65625</td>\n",
       "      <td>0.50000</td>\n",
       "      <td>0.62500</td>\n",
       "      <td>0.516129</td>\n",
       "      <td>...</td>\n",
       "      <td>0.563291</td>\n",
       "      <td>0.064850</td>\n",
       "      <td>4</td>\n",
       "      <td>0.690476</td>\n",
       "      <td>0.714286</td>\n",
       "      <td>0.730159</td>\n",
       "      <td>0.724409</td>\n",
       "      <td>0.700787</td>\n",
       "      <td>0.712023</td>\n",
       "      <td>0.014683</td>\n",
       "    </tr>\n",
       "    <tr>\n",
       "      <th>5</th>\n",
       "      <td>0.001994</td>\n",
       "      <td>7.921814e-07</td>\n",
       "      <td>0.001396</td>\n",
       "      <td>0.000489</td>\n",
       "      <td>6</td>\n",
       "      <td>{'n_neighbors': 6}</td>\n",
       "      <td>0.59375</td>\n",
       "      <td>0.40625</td>\n",
       "      <td>0.53125</td>\n",
       "      <td>0.548387</td>\n",
       "      <td>...</td>\n",
       "      <td>0.512658</td>\n",
       "      <td>0.064094</td>\n",
       "      <td>8</td>\n",
       "      <td>0.666667</td>\n",
       "      <td>0.706349</td>\n",
       "      <td>0.730159</td>\n",
       "      <td>0.653543</td>\n",
       "      <td>0.685039</td>\n",
       "      <td>0.688351</td>\n",
       "      <td>0.027439</td>\n",
       "    </tr>\n",
       "    <tr>\n",
       "      <th>6</th>\n",
       "      <td>0.002394</td>\n",
       "      <td>4.889280e-04</td>\n",
       "      <td>0.001197</td>\n",
       "      <td>0.000399</td>\n",
       "      <td>7</td>\n",
       "      <td>{'n_neighbors': 7}</td>\n",
       "      <td>0.59375</td>\n",
       "      <td>0.56250</td>\n",
       "      <td>0.65625</td>\n",
       "      <td>0.548387</td>\n",
       "      <td>...</td>\n",
       "      <td>0.588608</td>\n",
       "      <td>0.037415</td>\n",
       "      <td>3</td>\n",
       "      <td>0.706349</td>\n",
       "      <td>0.682540</td>\n",
       "      <td>0.714286</td>\n",
       "      <td>0.685039</td>\n",
       "      <td>0.700787</td>\n",
       "      <td>0.697800</td>\n",
       "      <td>0.012243</td>\n",
       "    </tr>\n",
       "    <tr>\n",
       "      <th>7</th>\n",
       "      <td>0.002593</td>\n",
       "      <td>7.985355e-04</td>\n",
       "      <td>0.001197</td>\n",
       "      <td>0.000399</td>\n",
       "      <td>8</td>\n",
       "      <td>{'n_neighbors': 8}</td>\n",
       "      <td>0.56250</td>\n",
       "      <td>0.50000</td>\n",
       "      <td>0.62500</td>\n",
       "      <td>0.516129</td>\n",
       "      <td>...</td>\n",
       "      <td>0.544304</td>\n",
       "      <td>0.045771</td>\n",
       "      <td>6</td>\n",
       "      <td>0.666667</td>\n",
       "      <td>0.674603</td>\n",
       "      <td>0.690476</td>\n",
       "      <td>0.669291</td>\n",
       "      <td>0.685039</td>\n",
       "      <td>0.677215</td>\n",
       "      <td>0.009143</td>\n",
       "    </tr>\n",
       "    <tr>\n",
       "      <th>8</th>\n",
       "      <td>0.001995</td>\n",
       "      <td>1.907349e-07</td>\n",
       "      <td>0.001796</td>\n",
       "      <td>0.000399</td>\n",
       "      <td>9</td>\n",
       "      <td>{'n_neighbors': 9}</td>\n",
       "      <td>0.68750</td>\n",
       "      <td>0.56250</td>\n",
       "      <td>0.65625</td>\n",
       "      <td>0.645161</td>\n",
       "      <td>...</td>\n",
       "      <td>0.645570</td>\n",
       "      <td>0.044450</td>\n",
       "      <td>1</td>\n",
       "      <td>0.714286</td>\n",
       "      <td>0.714286</td>\n",
       "      <td>0.706349</td>\n",
       "      <td>0.692913</td>\n",
       "      <td>0.685039</td>\n",
       "      <td>0.702575</td>\n",
       "      <td>0.011742</td>\n",
       "    </tr>\n",
       "    <tr>\n",
       "      <th>9</th>\n",
       "      <td>0.002194</td>\n",
       "      <td>3.988982e-04</td>\n",
       "      <td>0.001397</td>\n",
       "      <td>0.000489</td>\n",
       "      <td>10</td>\n",
       "      <td>{'n_neighbors': 10}</td>\n",
       "      <td>0.65625</td>\n",
       "      <td>0.59375</td>\n",
       "      <td>0.65625</td>\n",
       "      <td>0.645161</td>\n",
       "      <td>...</td>\n",
       "      <td>0.645570</td>\n",
       "      <td>0.028091</td>\n",
       "      <td>1</td>\n",
       "      <td>0.682540</td>\n",
       "      <td>0.690476</td>\n",
       "      <td>0.730159</td>\n",
       "      <td>0.622047</td>\n",
       "      <td>0.708661</td>\n",
       "      <td>0.686777</td>\n",
       "      <td>0.036284</td>\n",
       "    </tr>\n",
       "  </tbody>\n",
       "</table>\n",
       "<p>10 rows × 21 columns</p>\n",
       "</div>"
      ],
      "text/plain": [
       "   mean_fit_time  std_fit_time  mean_score_time  std_score_time  \\\n",
       "0       0.002394  4.877801e-04         0.001795        0.000399   \n",
       "1       0.002593  4.888115e-04         0.001596        0.000488   \n",
       "2       0.001995  7.136645e-07         0.001795        0.000400   \n",
       "3       0.002393  4.889476e-04         0.001596        0.000489   \n",
       "4       0.001995  5.519789e-07         0.001596        0.000489   \n",
       "5       0.001994  7.921814e-07         0.001396        0.000489   \n",
       "6       0.002394  4.889280e-04         0.001197        0.000399   \n",
       "7       0.002593  7.985355e-04         0.001197        0.000399   \n",
       "8       0.001995  1.907349e-07         0.001796        0.000399   \n",
       "9       0.002194  3.988982e-04         0.001397        0.000489   \n",
       "\n",
       "  param_n_neighbors               params  split0_test_score  \\\n",
       "0                 1   {'n_neighbors': 1}            0.62500   \n",
       "1                 2   {'n_neighbors': 2}            0.50000   \n",
       "2                 3   {'n_neighbors': 3}            0.65625   \n",
       "3                 4   {'n_neighbors': 4}            0.59375   \n",
       "4                 5   {'n_neighbors': 5}            0.65625   \n",
       "5                 6   {'n_neighbors': 6}            0.59375   \n",
       "6                 7   {'n_neighbors': 7}            0.59375   \n",
       "7                 8   {'n_neighbors': 8}            0.56250   \n",
       "8                 9   {'n_neighbors': 9}            0.68750   \n",
       "9                10  {'n_neighbors': 10}            0.65625   \n",
       "\n",
       "   split1_test_score  split2_test_score  split3_test_score       ...         \\\n",
       "0            0.53125            0.50000           0.451613       ...          \n",
       "1            0.46875            0.40625           0.354839       ...          \n",
       "2            0.62500            0.53125           0.451613       ...          \n",
       "3            0.43750            0.37500           0.419355       ...          \n",
       "4            0.50000            0.62500           0.516129       ...          \n",
       "5            0.40625            0.53125           0.548387       ...          \n",
       "6            0.56250            0.65625           0.548387       ...          \n",
       "7            0.50000            0.62500           0.516129       ...          \n",
       "8            0.56250            0.65625           0.645161       ...          \n",
       "9            0.59375            0.65625           0.645161       ...          \n",
       "\n",
       "   mean_test_score  std_test_score  rank_test_score  split0_train_score  \\\n",
       "0         0.518987        0.059264                7            1.000000   \n",
       "1         0.424051        0.053338               10            0.722222   \n",
       "2         0.550633        0.079080                5            0.753968   \n",
       "3         0.462025        0.074972                9            0.658730   \n",
       "4         0.563291        0.064850                4            0.690476   \n",
       "5         0.512658        0.064094                8            0.666667   \n",
       "6         0.588608        0.037415                3            0.706349   \n",
       "7         0.544304        0.045771                6            0.666667   \n",
       "8         0.645570        0.044450                1            0.714286   \n",
       "9         0.645570        0.028091                1            0.682540   \n",
       "\n",
       "   split1_train_score  split2_train_score  split3_train_score  \\\n",
       "0            1.000000            1.000000            1.000000   \n",
       "1            0.722222            0.682540            0.779528   \n",
       "2            0.777778            0.801587            0.803150   \n",
       "3            0.730159            0.738095            0.740157   \n",
       "4            0.714286            0.730159            0.724409   \n",
       "5            0.706349            0.730159            0.653543   \n",
       "6            0.682540            0.714286            0.685039   \n",
       "7            0.674603            0.690476            0.669291   \n",
       "8            0.714286            0.706349            0.692913   \n",
       "9            0.690476            0.730159            0.622047   \n",
       "\n",
       "   split4_train_score  mean_train_score  std_train_score  \n",
       "0            1.000000          1.000000         0.000000  \n",
       "1            0.716535          0.724609         0.031185  \n",
       "2            0.748031          0.776903         0.023059  \n",
       "3            0.700787          0.713586         0.030836  \n",
       "4            0.700787          0.712023         0.014683  \n",
       "5            0.685039          0.688351         0.027439  \n",
       "6            0.700787          0.697800         0.012243  \n",
       "7            0.685039          0.677215         0.009143  \n",
       "8            0.685039          0.702575         0.011742  \n",
       "9            0.708661          0.686777         0.036284  \n",
       "\n",
       "[10 rows x 21 columns]"
      ]
     },
     "execution_count": 17,
     "metadata": {},
     "output_type": "execute_result"
    }
   ],
   "source": [
    "result_grid"
   ]
  },
  {
   "cell_type": "code",
   "execution_count": 18,
   "metadata": {},
   "outputs": [],
   "source": [
    "result_grid.to_csv('result_grid.csv', sep=',', encoding='utf-8')"
   ]
  },
  {
   "cell_type": "code",
   "execution_count": 19,
   "metadata": {},
   "outputs": [
    {
     "data": {
      "text/plain": [
       "<matplotlib.legend.Legend at 0x270ee4048d0>"
      ]
     },
     "execution_count": 19,
     "metadata": {},
     "output_type": "execute_result"
    }
   ],
   "source": [
    "import matplotlib.pyplot as plt\n",
    "plt.plot(result_grid['param_n_neighbors'], result_grid['mean_train_score'], label=\"Train\")\n",
    "plt.plot(result_grid['param_n_neighbors'], result_grid['mean_test_score'], label=\"Test\")\n",
    "plt.legend()"
   ]
  },
  {
   "cell_type": "markdown",
   "metadata": {},
   "source": [
    "# 3. Random Search"
   ]
  },
  {
   "cell_type": "code",
   "execution_count": 20,
   "metadata": {},
   "outputs": [],
   "source": [
    "from sklearn.model_selection import RandomizedSearchCV"
   ]
  },
  {
   "cell_type": "code",
   "execution_count": 21,
   "metadata": {},
   "outputs": [],
   "source": [
    "from scipy.stats import randint"
   ]
  },
  {
   "cell_type": "code",
   "execution_count": 22,
   "metadata": {},
   "outputs": [],
   "source": [
    "param_distribs = {'n_neighbors': randint(low=1, high=20)}"
   ]
  },
  {
   "cell_type": "code",
   "execution_count": 23,
   "metadata": {},
   "outputs": [],
   "source": [
    "from sklearn.neighbors import KNeighborsClassifier"
   ]
  },
  {
   "cell_type": "code",
   "execution_count": 24,
   "metadata": {},
   "outputs": [],
   "source": [
    "random_search=RandomizedSearchCV(KNeighborsClassifier(), param_distributions=param_distribs, cv=5,return_train_score=True)"
   ]
  },
  {
   "cell_type": "code",
   "execution_count": 25,
   "metadata": {},
   "outputs": [
    {
     "name": "stderr",
     "output_type": "stream",
     "text": [
      "C:\\Users\\user\\Anaconda3\\lib\\site-packages\\sklearn\\model_selection\\_search.py:814: DeprecationWarning: The default of the `iid` parameter will change from True to False in version 0.22 and will be removed in 0.24. This will change numeric results when test-set sizes are unequal.\n",
      "  DeprecationWarning)\n"
     ]
    },
    {
     "data": {
      "text/plain": [
       "RandomizedSearchCV(cv=5, error_score='raise-deprecating',\n",
       "                   estimator=KNeighborsClassifier(algorithm='auto',\n",
       "                                                  leaf_size=30,\n",
       "                                                  metric='minkowski',\n",
       "                                                  metric_params=None,\n",
       "                                                  n_jobs=None, n_neighbors=5,\n",
       "                                                  p=2, weights='uniform'),\n",
       "                   iid='warn', n_iter=10, n_jobs=None,\n",
       "                   param_distributions={'n_neighbors': <scipy.stats._distn_infrastructure.rv_frozen object at 0x00000270EE45F6D8>},\n",
       "                   pre_dispatch='2*n_jobs', random_state=None, refit=True,\n",
       "                   return_train_score=True, scoring=None, verbose=0)"
      ]
     },
     "execution_count": 25,
     "metadata": {},
     "output_type": "execute_result"
    }
   ],
   "source": [
    "random_search.fit(X_train, y_train)"
   ]
  },
  {
   "cell_type": "code",
   "execution_count": 26,
   "metadata": {},
   "outputs": [
    {
     "name": "stdout",
     "output_type": "stream",
     "text": [
      "Best Parameter: {'n_neighbors': 13}\n"
     ]
    }
   ],
   "source": [
    "print(\"Best Parameter: {}\".format(random_search.best_params_))"
   ]
  },
  {
   "cell_type": "code",
   "execution_count": 27,
   "metadata": {},
   "outputs": [
    {
     "name": "stdout",
     "output_type": "stream",
     "text": [
      "Best Cross-validity Score: 0.690\n"
     ]
    }
   ],
   "source": [
    "print(\"Best Cross-validity Score: {:.3f}\".format(random_search.best_score_))"
   ]
  },
  {
   "cell_type": "code",
   "execution_count": 28,
   "metadata": {},
   "outputs": [
    {
     "name": "stdout",
     "output_type": "stream",
     "text": [
      "Test set Score: 0.774\n"
     ]
    }
   ],
   "source": [
    "print(\"Test set Score: {:.3f}\".format(random_search.score(X_test, y_test)))"
   ]
  },
  {
   "cell_type": "code",
   "execution_count": 29,
   "metadata": {},
   "outputs": [],
   "source": [
    "result_random = random_search.cv_results_"
   ]
  },
  {
   "cell_type": "code",
   "execution_count": 30,
   "metadata": {},
   "outputs": [],
   "source": [
    "result_random=pd.DataFrame(result_random)"
   ]
  },
  {
   "cell_type": "code",
   "execution_count": 31,
   "metadata": {},
   "outputs": [],
   "source": [
    "result_random.to_csv('result_random.csv', sep=',', encoding='utf-8')"
   ]
  },
  {
   "cell_type": "code",
   "execution_count": 32,
   "metadata": {},
   "outputs": [
    {
     "data": {
      "text/plain": [
       "<matplotlib.legend.Legend at 0x270ee605748>"
      ]
     },
     "execution_count": 32,
     "metadata": {},
     "output_type": "execute_result"
    },
    {
     "data": {
      "image/png": "[encoded data removed]",
      "text/plain": [
       "<Figure size 432x288 with 1 Axes>"
      ]
     },
     "metadata": {
      "needs_background": "light"
     },
     "output_type": "display_data"
    }
   ],
   "source": [
    "import matplotlib.pyplot as plt\n",
    "plt.plot(result_random['param_n_neighbors'], result_random['mean_train_score'], label=\"Train\")\n",
    "plt.plot(result_random['param_n_neighbors'], result_random['mean_test_score'], label=\"Test\")\n",
    "plt.legend()"
   ]
  },
  {
   "cell_type": "markdown",
   "metadata": {},
   "source": [
    "# 4. 모델평가"
   ]
  },
  {
   "cell_type": "code",
   "execution_count": 33,
   "metadata": {},
   "outputs": [],
   "source": [
    "from sklearn.neighbors import KNeighborsClassifier"
   ]
  },
  {
   "cell_type": "code",
   "execution_count": 34,
   "metadata": {},
   "outputs": [],
   "source": [
    "knn3=KNeighborsClassifier(n_neighbors=9)"
   ]
  },
  {
   "cell_type": "code",
   "execution_count": 35,
   "metadata": {},
   "outputs": [
    {
     "data": {
      "text/plain": [
       "KNeighborsClassifier(algorithm='auto', leaf_size=30, metric='minkowski',\n",
       "                     metric_params=None, n_jobs=None, n_neighbors=9, p=2,\n",
       "                     weights='uniform')"
      ]
     },
     "execution_count": 35,
     "metadata": {},
     "output_type": "execute_result"
    }
   ],
   "source": [
    "knn3.fit(X_train, y_train)"
   ]
  },
  {
   "cell_type": "code",
   "execution_count": 36,
   "metadata": {},
   "outputs": [],
   "source": [
    "from sklearn.metrics import confusion_matrix\n",
    "# Confusion matrix에서\n",
    "# [정확도]Accuracy =(TN + TP) / Total\n",
    "# [정밀도]Precision = TP / (TP + FP)\n",
    "# [재현율]Recall = TP / (TP + FN)\n",
    "# f-score = 2 / ((1 / precision) + (1 / recall))"
   ]
  },
  {
   "cell_type": "code",
   "execution_count": 37,
   "metadata": {},
   "outputs": [],
   "source": [
    "pred_train=knn3.predict(X_train)"
   ]
  },
  {
   "cell_type": "code",
   "execution_count": 38,
   "metadata": {},
   "outputs": [],
   "source": [
    "confusion_train=confusion_matrix(y_train, pred_train)"
   ]
  },
  {
   "cell_type": "code",
   "execution_count": 39,
   "metadata": {},
   "outputs": [
    {
     "name": "stdout",
     "output_type": "stream",
     "text": [
      "훈련데이터 오차행렬:\n",
      " [[  7  41]\n",
      " [  2 108]]\n"
     ]
    }
   ],
   "source": [
    "print(\"훈련데이터 오차행렬:\\n\", confusion_train)"
   ]
  },
  {
   "cell_type": "code",
   "execution_count": 40,
   "metadata": {},
   "outputs": [],
   "source": [
    "pred_test=knn3.predict(X_test)"
   ]
  },
  {
   "cell_type": "code",
   "execution_count": 41,
   "metadata": {},
   "outputs": [],
   "source": [
    "confusion_test=confusion_matrix(y_test, pred_test)"
   ]
  },
  {
   "cell_type": "code",
   "execution_count": 42,
   "metadata": {},
   "outputs": [
    {
     "name": "stdout",
     "output_type": "stream",
     "text": [
      "테스트데이터 오차행렬:\n",
      " [[ 5  8]\n",
      " [ 2 38]]\n"
     ]
    }
   ],
   "source": [
    "print(\"테스트데이터 오차행렬:\\n\", confusion_test)"
   ]
  },
  {
   "cell_type": "code",
   "execution_count": 43,
   "metadata": {},
   "outputs": [],
   "source": [
    "from sklearn.metrics import f1_score"
   ]
  },
  {
   "cell_type": "code",
   "execution_count": 44,
   "metadata": {},
   "outputs": [],
   "source": [
    "TP=38\n",
    "FP=8\n",
    "FN=2\n",
    "TN=5"
   ]
  },
  {
   "cell_type": "code",
   "execution_count": 45,
   "metadata": {},
   "outputs": [
    {
     "data": {
      "text/plain": [
       "0.8260869565217391"
      ]
     },
     "execution_count": 45,
     "metadata": {},
     "output_type": "execute_result"
    }
   ],
   "source": [
    "#precision\n",
    "precision=TP/(TP+FP)\n",
    "precision"
   ]
  },
  {
   "cell_type": "code",
   "execution_count": 46,
   "metadata": {},
   "outputs": [
    {
     "data": {
      "text/plain": [
       "0.95"
      ]
     },
     "execution_count": 46,
     "metadata": {},
     "output_type": "execute_result"
    }
   ],
   "source": [
    "#recall\n",
    "recall=TP/(TP+FN)\n",
    "recall"
   ]
  },
  {
   "cell_type": "code",
   "execution_count": 47,
   "metadata": {},
   "outputs": [
    {
     "data": {
      "text/plain": [
       "0.8837209302325582"
      ]
     },
     "execution_count": 47,
     "metadata": {},
     "output_type": "execute_result"
    }
   ],
   "source": [
    "f_score=2/((1/precision)+(1/recall))\n",
    "f_score"
   ]
  },
  {
   "cell_type": "code",
   "execution_count": 48,
   "metadata": {},
   "outputs": [],
   "source": [
    "f1=f1_score(y_test, pred_test)"
   ]
  },
  {
   "cell_type": "code",
   "execution_count": 50,
   "metadata": {},
   "outputs": [
    {
     "name": "stdout",
     "output_type": "stream",
     "text": [
      "f1 score:   0.8837209302325583\n"
     ]
    }
   ],
   "source": [
    "print(\"f1 score:  \", f1)"
   ]
  },
  {
   "cell_type": "code",
   "execution_count": 51,
   "metadata": {},
   "outputs": [],
   "source": [
    "from sklearn.metrics import classification_report"
   ]
  },
  {
   "cell_type": "code",
   "execution_count": 52,
   "metadata": {},
   "outputs": [],
   "source": [
    "cfreport=classification_report(y_test, pred_test)\n",
    "#classification_report(y_true, y_pred, labels=None, target_names=None, sample_weight=None, digits=2, output_dict=False)[source]"
   ]
  },
  {
   "cell_type": "code",
   "execution_count": 53,
   "metadata": {},
   "outputs": [
    {
     "data": {
      "text/plain": [
       "'              precision    recall  f1-score   support\\n\\n           0       0.71      0.38      0.50        13\\n           1       0.83      0.95      0.88        40\\n\\n    accuracy                           0.81        53\\n   macro avg       0.77      0.67      0.69        53\\nweighted avg       0.80      0.81      0.79        53\\n'"
      ]
     },
     "execution_count": 53,
     "metadata": {},
     "output_type": "execute_result"
    }
   ],
   "source": [
    "cfreport"
   ]
  },
  {
   "cell_type": "code",
   "execution_count": 54,
   "metadata": {},
   "outputs": [
    {
     "name": "stdout",
     "output_type": "stream",
     "text": [
      "분류예측 레포트:\n",
      "               precision    recall  f1-score   support\n",
      "\n",
      "           0       0.71      0.38      0.50        13\n",
      "           1       0.83      0.95      0.88        40\n",
      "\n",
      "    accuracy                           0.81        53\n",
      "   macro avg       0.77      0.67      0.69        53\n",
      "weighted avg       0.80      0.81      0.79        53\n",
      "\n"
     ]
    }
   ],
   "source": [
    "print(\"분류예측 레포트:\\n\", cfreport)\n",
    "# support : the number of occurrences of each class in y_true\n",
    "# micro average (averaging the total TP, FN and FP)\n",
    "# macro average (averaging the unweighted mean per label)\n",
    "# weighted average (averaging the support-weighted mean per label)"
   ]
  },
  {
   "cell_type": "code",
   "execution_count": null,
   "metadata": {},
   "outputs": [],
   "source": []
  }
 ],
 "metadata": {
  "kernelspec": {
   "display_name": "Python 3",
   "language": "python",
   "name": "python3"
  },
  "language_info": {
   "codemirror_mode": {
    "name": "ipython",
    "version": 3
   },
   "file_extension": ".py",
   "mimetype": "text/x-python",
   "name": "python",
   "nbconvert_exporter": "python",
   "pygments_lexer": "ipython3",
   "version": "3.7.1"
  }
 },
 "nbformat": 4,
 "nbformat_minor": 2
}
